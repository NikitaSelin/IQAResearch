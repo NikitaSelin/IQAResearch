{
 "cells": [
  {
   "cell_type": "code",
   "execution_count": 1,
   "metadata": {},
   "outputs": [],
   "source": [
    "import pandas as pd\n",
    "import lpips\n",
    "import cv2\n",
    "import torch\n",
    "import numpy as np\n",
    "import os\n",
    "from tqdm import tqdm\n",
    "from scipy.stats import pearsonr, spearmanr\n",
    "from DISTS_pytorch import DISTS\n",
    "import pyiqa"
   ]
  },
  {
   "cell_type": "code",
   "execution_count": 2,
   "metadata": {},
   "outputs": [],
   "source": [
    "dataset = pd.read_csv(\"koniq10k_scores_and_distributions.csv\")\n",
    "max_mos = dataset[\"MOS\"].values.max()\n",
    "min_mos = dataset[\"MOS\"].values.min()"
   ]
  },
  {
   "cell_type": "code",
   "execution_count": 3,
   "metadata": {},
   "outputs": [],
   "source": [
    "device = torch.device('cuda' if torch.cuda.is_available() else 'cpu')"
   ]
  },
  {
   "cell_type": "code",
   "execution_count": 4,
   "metadata": {},
   "outputs": [
    {
     "name": "stdout",
     "output_type": "stream",
     "text": [
      "Setting up [LPIPS] perceptual loss: trunk [alex], v[0.1], spatial [off]\n"
     ]
    },
    {
     "name": "stderr",
     "output_type": "stream",
     "text": [
      "c:\\Users\\nikis\\anaconda3\\Lib\\site-packages\\torchvision\\models\\_utils.py:208: UserWarning: The parameter 'pretrained' is deprecated since 0.13 and may be removed in the future, please use 'weights' instead.\n",
      "  warnings.warn(\n",
      "c:\\Users\\nikis\\anaconda3\\Lib\\site-packages\\torchvision\\models\\_utils.py:223: UserWarning: Arguments other than a weight enum or `None` for 'weights' are deprecated since 0.13 and may be removed in the future. The current behavior is equivalent to passing `weights=AlexNet_Weights.IMAGENET1K_V1`. You can also use `weights=AlexNet_Weights.DEFAULT` to get the most up-to-date weights.\n",
      "  warnings.warn(msg)\n"
     ]
    },
    {
     "name": "stdout",
     "output_type": "stream",
     "text": [
      "Loading model from: c:\\Users\\nikis\\anaconda3\\Lib\\site-packages\\lpips\\weights\\v0.1\\alex.pth\n"
     ]
    },
    {
     "name": "stderr",
     "output_type": "stream",
     "text": [
      "c:\\Users\\nikis\\anaconda3\\Lib\\site-packages\\lpips\\lpips.py:107: FutureWarning: You are using `torch.load` with `weights_only=False` (the current default value), which uses the default pickle module implicitly. It is possible to construct malicious pickle data which will execute arbitrary code during unpickling (See https://github.com/pytorch/pytorch/blob/main/SECURITY.md#untrusted-models for more details). In a future release, the default value for `weights_only` will be flipped to `True`. This limits the functions that could be executed during unpickling. Arbitrary objects will no longer be allowed to be loaded via this mode unless they are explicitly allowlisted by the user via `torch.serialization.add_safe_globals`. We recommend you start setting `weights_only=True` for any use case where you don't have full control of the loaded file. Please open an issue on GitHub for any issues related to this experimental feature.\n",
      "  self.load_state_dict(torch.load(model_path, map_location='cpu'), strict=False)\n",
      "c:\\Users\\nikis\\anaconda3\\Lib\\site-packages\\torchvision\\models\\_utils.py:223: UserWarning: Arguments other than a weight enum or `None` for 'weights' are deprecated since 0.13 and may be removed in the future. The current behavior is equivalent to passing `weights=VGG16_Weights.IMAGENET1K_V1`. You can also use `weights=VGG16_Weights.DEFAULT` to get the most up-to-date weights.\n",
      "  warnings.warn(msg)\n",
      "c:\\Users\\nikis\\anaconda3\\Lib\\site-packages\\DISTS_pytorch\\DISTS_pt.py:63: FutureWarning: You are using `torch.load` with `weights_only=False` (the current default value), which uses the default pickle module implicitly. It is possible to construct malicious pickle data which will execute arbitrary code during unpickling (See https://github.com/pytorch/pytorch/blob/main/SECURITY.md#untrusted-models for more details). In a future release, the default value for `weights_only` will be flipped to `True`. This limits the functions that could be executed during unpickling. Arbitrary objects will no longer be allowed to be loaded via this mode unless they are explicitly allowlisted by the user via `torch.serialization.add_safe_globals`. We recommend you start setting `weights_only=True` for any use case where you don't have full control of the loaded file. Please open an issue on GitHub for any issues related to this experimental feature.\n",
      "  weights = torch.load(os.path.join(sys.prefix,'weights.pt'))\n"
     ]
    },
    {
     "name": "stdout",
     "output_type": "stream",
     "text": [
      "Loading pretrained model NIMA from C:\\Users\\nikis\\.cache\\torch\\hub\\checkpoints\\NIMA_InceptionV2_ava-b0c77c00.pth\n"
     ]
    },
    {
     "name": "stderr",
     "output_type": "stream",
     "text": [
      "c:\\Users\\nikis\\anaconda3\\Lib\\site-packages\\pyiqa\\archs\\arch_util.py:118: FutureWarning: You are using `torch.load` with `weights_only=False` (the current default value), which uses the default pickle module implicitly. It is possible to construct malicious pickle data which will execute arbitrary code during unpickling (See https://github.com/pytorch/pytorch/blob/main/SECURITY.md#untrusted-models for more details). In a future release, the default value for `weights_only` will be flipped to `True`. This limits the functions that could be executed during unpickling. Arbitrary objects will no longer be allowed to be loaded via this mode unless they are explicitly allowlisted by the user via `torch.serialization.add_safe_globals`. We recommend you start setting `weights_only=True` for any use case where you don't have full control of the loaded file. Please open an issue on GitHub for any issues related to this experimental feature.\n",
      "  state_dict = torch.load(model_path, map_location=torch.device(\"cpu\"))\n"
     ]
    }
   ],
   "source": [
    "loss_fn_alex = lpips.LPIPS(net='alex')\n",
    "D = DISTS().to(device)\n",
    "nima = pyiqa.create_metric('nima', device=device)"
   ]
  },
  {
   "cell_type": "code",
   "execution_count": 5,
   "metadata": {},
   "outputs": [],
   "source": [
    "esrgan_lpips_scores = {}\n",
    "esrgan_lpips_scores[\"image_name\"] = []\n",
    "esrgan_lpips_scores[\"MOS\"] = []"
   ]
  },
  {
   "cell_type": "markdown",
   "metadata": {},
   "source": [
    "Чем меньше значение LPIPS, тем ближе изображения.\n",
    "\n",
    "Требуется сделать преобразование в MOS, которое есть в KonIQ-10k. Из вывода LPIPS кажется, что значения варьируются от 0 до 1 (также в статье присутствует сигмоида, которая выдаёт значения от 0 до 1). Следовательно, преобразование расчитывал по следующей формуле:\n",
    "\n",
    "$$ (1 - d) = \\frac{d_{\\text{MOS}} - min}{max - min}, $$\n",
    "$$ d_{\\text{MOS}} = (1 - d) \\cdot (max - min) + min $$"
   ]
  },
  {
   "cell_type": "code",
   "execution_count": 6,
   "metadata": {},
   "outputs": [
    {
     "name": "stderr",
     "output_type": "stream",
     "text": [
      " 36%|███▌      | 3745/10373 [27:51<49:18,  2.24it/s]  \n"
     ]
    }
   ],
   "source": [
    "count = 0\n",
    "images = os.listdir(\"1024x768\")\n",
    "for image_name in tqdm(images):\n",
    "    esrgan_lpips_scores[\"image_name\"].append(image_name)\n",
    "    img0 = cv2.imread(f\"1024x768/{image_name}\")\n",
    "    img1 = cv2.imread(f\"ESRGAN/results/{image_name[:-4]}_rlt.png\")\n",
    "\n",
    "    img0 = img0.reshape(1, 3, 768, 1024)\n",
    "    img1 = img1.reshape(1, 3, 768, 1024)\n",
    "\n",
    "    img0 = (img0 / 127.5) - 1\n",
    "    img1 = (img1 / 127.5) - 1\n",
    "\n",
    "    img0 = img0.astype(np.float32)\n",
    "    img1 = img1.astype(np.float32)\n",
    "\n",
    "    img0 = torch.tensor(img0)\n",
    "    img1 = torch.tensor(img1)\n",
    "\n",
    "    d = loss_fn_alex(img0, img1)\n",
    "    esrgan_lpips_scores[\"MOS\"].append(float((d * (max_mos - min_mos) + min_mos)[0, 0, 0, 0]))\n",
    "    df = pd.DataFrame(esrgan_lpips_scores)\n",
    "    df.to_csv(\"ESRGAN_LPIPS_scores.csv\")\n",
    "    count += 1\n",
    "    if count == 3746:\n",
    "        break"
   ]
  },
  {
   "cell_type": "code",
   "execution_count": 7,
   "metadata": {},
   "outputs": [],
   "source": [
    "real_esrgan_lpips_scores = {}\n",
    "real_esrgan_lpips_scores[\"image_name\"] = []\n",
    "real_esrgan_lpips_scores[\"MOS\"] = []"
   ]
  },
  {
   "cell_type": "code",
   "execution_count": 8,
   "metadata": {},
   "outputs": [
    {
     "name": "stderr",
     "output_type": "stream",
     "text": [
      " 36%|███▌      | 3745/10373 [27:16<48:16,  2.29it/s]  \n"
     ]
    }
   ],
   "source": [
    "count = 0\n",
    "images = os.listdir(\"1024x768\")\n",
    "for image_name in tqdm(images):\n",
    "    real_esrgan_lpips_scores[\"image_name\"].append(image_name)\n",
    "    img0 = cv2.imread(f\"1024x768/{image_name}\")\n",
    "    img1 = cv2.imread(f\"Real-ESRGAN/results/{image_name[:-4]}_out.jpg\")\n",
    "\n",
    "    img0 = img0.reshape(1, 3, 768, 1024)\n",
    "    img1 = img1.reshape(1, 3, 768, 1024)\n",
    "\n",
    "    img0 = (img0 / 127.5) - 1\n",
    "    img1 = (img1 / 127.5) - 1\n",
    "\n",
    "    img0 = img0.astype(np.float32)\n",
    "    img1 = img1.astype(np.float32)\n",
    "\n",
    "    img0 = torch.tensor(img0)\n",
    "    img1 = torch.tensor(img1)\n",
    "\n",
    "    d = loss_fn_alex(img0, img1)\n",
    "    real_esrgan_lpips_scores[\"MOS\"].append(float((d * (max_mos - min_mos) + min_mos)[0, 0, 0, 0]))\n",
    "    df = pd.DataFrame(real_esrgan_lpips_scores)\n",
    "    df.to_csv(\"Real-ESRGAN_LPIPS_scores.csv\")\n",
    "    count += 1\n",
    "    if count == 3746:\n",
    "        break"
   ]
  },
  {
   "cell_type": "code",
   "execution_count": 9,
   "metadata": {},
   "outputs": [],
   "source": [
    "esrgan_dists_scores = {}\n",
    "esrgan_dists_scores[\"image_name\"] = []\n",
    "esrgan_dists_scores[\"MOS\"] = []"
   ]
  },
  {
   "cell_type": "code",
   "execution_count": 10,
   "metadata": {},
   "outputs": [
    {
     "name": "stderr",
     "output_type": "stream",
     "text": [
      " 36%|███▌      | 3745/10373 [17:54<31:42,  3.48it/s]\n"
     ]
    }
   ],
   "source": [
    "count = 0\n",
    "images = os.listdir(\"1024x768\")\n",
    "for image_name in tqdm(images):\n",
    "    esrgan_dists_scores[\"image_name\"].append(image_name)\n",
    "    img0 = cv2.imread(f\"1024x768/{image_name}\")\n",
    "    img1 = cv2.imread(f\"ESRGAN/results/{image_name[:-4]}_rlt.png\")\n",
    "\n",
    "    img0 = img0.reshape(1, 3, 768, 1024)\n",
    "    img1 = img1.reshape(1, 3, 768, 1024)\n",
    "\n",
    "    img0 = img0 / 255\n",
    "    img1 = img1 / 255\n",
    "\n",
    "    img0 = img0.astype(np.float32)\n",
    "    img1 = img1.astype(np.float32)\n",
    "\n",
    "    img0 = torch.tensor(img0).to(device)\n",
    "    img1 = torch.tensor(img1).to(device)\n",
    "\n",
    "    d = D(img0, img1)\n",
    "    del img0\n",
    "    del img1\n",
    "    esrgan_dists_scores[\"MOS\"].append(float((d * (max_mos - min_mos) + min_mos)))\n",
    "    df = pd.DataFrame(esrgan_dists_scores)\n",
    "    df.to_csv(\"ESRGAN_DISTS_scores.csv\")\n",
    "    count += 1\n",
    "    if count == 3746:\n",
    "        break"
   ]
  },
  {
   "cell_type": "code",
   "execution_count": 11,
   "metadata": {},
   "outputs": [],
   "source": [
    "real_esrgan_dists_scores = {}\n",
    "real_esrgan_dists_scores[\"image_name\"] = []\n",
    "real_esrgan_dists_scores[\"MOS\"] = []"
   ]
  },
  {
   "cell_type": "code",
   "execution_count": 12,
   "metadata": {},
   "outputs": [
    {
     "name": "stderr",
     "output_type": "stream",
     "text": [
      " 36%|███▌      | 3745/10373 [17:33<31:04,  3.55it/s]\n"
     ]
    }
   ],
   "source": [
    "count = 0\n",
    "images = os.listdir(\"1024x768\")\n",
    "for image_name in tqdm(images):\n",
    "    real_esrgan_dists_scores[\"image_name\"].append(image_name)\n",
    "    img0 = cv2.imread(f\"1024x768/{image_name}\")\n",
    "    img1 = cv2.imread(f\"Real-ESRGAN/results/{image_name[:-4]}_out.jpg\")\n",
    "\n",
    "    img0 = img0.reshape(1, 3, 768, 1024)\n",
    "    img1 = img1.reshape(1, 3, 768, 1024)\n",
    "\n",
    "    img0 = img0 / 255\n",
    "    img1 = img1 / 255\n",
    "\n",
    "    img0 = img0.astype(np.float32)\n",
    "    img1 = img1.astype(np.float32)\n",
    "\n",
    "    img0 = torch.tensor(img0).to(device)\n",
    "    img1 = torch.tensor(img1).to(device)\n",
    "\n",
    "    d = D(img0, img1)\n",
    "    del img0\n",
    "    del img1\n",
    "    real_esrgan_dists_scores[\"MOS\"].append(float((d * (max_mos - min_mos) + min_mos)))\n",
    "    df = pd.DataFrame(real_esrgan_dists_scores)\n",
    "    df.to_csv(\"Real-ESRGAN_DISTS_scores.csv\")\n",
    "    count += 1\n",
    "    if count == 3746:\n",
    "        break"
   ]
  },
  {
   "cell_type": "code",
   "execution_count": 13,
   "metadata": {},
   "outputs": [],
   "source": [
    "esrgan_nima_scores = {}\n",
    "esrgan_nima_scores[\"image_name\"] = []\n",
    "esrgan_nima_scores[\"MOS\"] = []"
   ]
  },
  {
   "cell_type": "code",
   "execution_count": 14,
   "metadata": {},
   "outputs": [
    {
     "name": "stderr",
     "output_type": "stream",
     "text": [
      " 36%|███▌      | 3745/10373 [09:35<16:58,  6.51it/s]\n"
     ]
    }
   ],
   "source": [
    "count = 0\n",
    "images = os.listdir(\"1024x768\")\n",
    "for image_name in tqdm(images):\n",
    "    esrgan_nima_scores[\"image_name\"].append(image_name)\n",
    "    img0 = cv2.imread(f\"1024x768/{image_name}\")\n",
    "    img1 = cv2.imread(f\"ESRGAN/results/{image_name[:-4]}_rlt.png\")\n",
    "\n",
    "    img0 = img0.reshape(1, 3, 768, 1024)\n",
    "    img1 = img1.reshape(1, 3, 768, 1024)\n",
    "\n",
    "    img0 = img0 / 255\n",
    "    img1 = img1 / 255\n",
    "\n",
    "    img0 = img0.astype(np.float32)\n",
    "    img1 = img1.astype(np.float32)\n",
    "\n",
    "    img0 = torch.tensor(img0)\n",
    "    img1 = torch.tensor(img1)\n",
    "\n",
    "    d = nima(img0, img1)\n",
    "    esrgan_nima_scores[\"MOS\"].append(float(((d / 10) * (max_mos - min_mos) + min_mos)))\n",
    "    df = pd.DataFrame(esrgan_nima_scores)\n",
    "    df.to_csv(\"ESRGAN_NIMA_scores.csv\")\n",
    "    count += 1\n",
    "    if count == 3746:\n",
    "        break"
   ]
  },
  {
   "cell_type": "code",
   "execution_count": 15,
   "metadata": {},
   "outputs": [],
   "source": [
    "real_esrgan_nima_scores = {}\n",
    "real_esrgan_nima_scores[\"image_name\"] = []\n",
    "real_esrgan_nima_scores[\"MOS\"] = []"
   ]
  },
  {
   "cell_type": "code",
   "execution_count": 16,
   "metadata": {},
   "outputs": [
    {
     "name": "stderr",
     "output_type": "stream",
     "text": [
      " 36%|███▌      | 3745/10373 [09:03<16:01,  6.90it/s]\n"
     ]
    }
   ],
   "source": [
    "count = 0\n",
    "images = os.listdir(\"1024x768\")\n",
    "for image_name in tqdm(images):\n",
    "    real_esrgan_nima_scores[\"image_name\"].append(image_name)\n",
    "    img0 = cv2.imread(f\"1024x768/{image_name}\")\n",
    "    img1 = cv2.imread(f\"Real-ESRGAN/results/{image_name[:-4]}_out.jpg\")\n",
    "\n",
    "    img0 = img0.reshape(1, 3, 768, 1024)\n",
    "    img1 = img1.reshape(1, 3, 768, 1024)\n",
    "\n",
    "    img0 = img0 / 255\n",
    "    img1 = img1 / 255\n",
    "\n",
    "    img0 = img0.astype(np.float32)\n",
    "    img1 = img1.astype(np.float32)\n",
    "\n",
    "    img0 = torch.tensor(img0)\n",
    "    img1 = torch.tensor(img1)\n",
    "\n",
    "    d = nima(img0, img1)\n",
    "    real_esrgan_nima_scores[\"MOS\"].append(float(((d / 10) * (max_mos - min_mos) + min_mos)))\n",
    "    df = pd.DataFrame(real_esrgan_nima_scores)\n",
    "    df.to_csv(\"Real-ESRGAN_NIMA_scores.csv\")\n",
    "    count += 1\n",
    "    if count == 3746:\n",
    "        break"
   ]
  },
  {
   "cell_type": "code",
   "execution_count": 23,
   "metadata": {},
   "outputs": [],
   "source": [
    "esrgan_ahiq_scores = {}\n",
    "esrgan_ahiq_scores[\"image_name\"] = []\n",
    "esrgan_ahiq_scores[\"MOS\"] = []"
   ]
  },
  {
   "cell_type": "code",
   "execution_count": null,
   "metadata": {},
   "outputs": [],
   "source": [
    "ahiq = pyiqa.create_metric('ahiq', device=device)\n",
    "\n",
    "count = 0\n",
    "images = os.listdir(\"1024x768\")\n",
    "for image_name in tqdm(images):\n",
    "    esrgan_ahiq_scores[\"image_name\"].append(image_name)\n",
    "    img0 = cv2.imread(f\"1024x768/{image_name}\")\n",
    "    img1 = cv2.imread(f\"ESRGAN/results/{image_name[:-4]}_rlt.png\")\n",
    "\n",
    "    img0 = img0.reshape(1, 3, 768, 1024)\n",
    "    img1 = img1.reshape(1, 3, 768, 1024)\n",
    "\n",
    "    img0 = img0 / 255\n",
    "    img1 = img1 / 255\n",
    "\n",
    "    img0 = img0.astype(np.float32)\n",
    "    img1 = img1.astype(np.float32)\n",
    "\n",
    "    img0 = torch.tensor(img0)\n",
    "    img1 = torch.tensor(img1)\n",
    "\n",
    "    d = ahiq(img0, img1)\n",
    "    esrgan_ahiq_scores[\"MOS\"].append(float((d * (max_mos - min_mos) + min_mos)))\n",
    "    df = pd.DataFrame(esrgan_ahiq_scores)\n",
    "    df.to_csv(\"ESRGAN_AHIQ_scores.csv\")\n",
    "    count += 1\n",
    "    if count == 3746:\n",
    "        break"
   ]
  },
  {
   "cell_type": "code",
   "execution_count": null,
   "metadata": {},
   "outputs": [],
   "source": [
    "real_esrgan_ahiq_scores = {}\n",
    "real_esrgan_ahiq_scores[\"image_name\"] = []\n",
    "real_esrgan_ahiq_scores[\"MOS\"] = []"
   ]
  },
  {
   "cell_type": "code",
   "execution_count": null,
   "metadata": {},
   "outputs": [],
   "source": [
    "count = 0\n",
    "images = os.listdir(\"1024x768\")\n",
    "for image_name in tqdm(images):\n",
    "    real_esrgan_ahiq_scores[\"image_name\"].append(image_name)\n",
    "    img0 = cv2.imread(f\"1024x768/{image_name}\")\n",
    "    img1 = cv2.imread(f\"Real-ESRGAN/results/{image_name[:-4]}_out.jpg\")\n",
    "\n",
    "    img0 = img0.reshape(1, 3, 768, 1024)\n",
    "    img1 = img1.reshape(1, 3, 768, 1024)\n",
    "\n",
    "    img0 = img0 / 255\n",
    "    img1 = img1 / 255\n",
    "\n",
    "    img0 = img0.astype(np.float32)\n",
    "    img1 = img1.astype(np.float32)\n",
    "\n",
    "    img0 = torch.tensor(img0)\n",
    "    img1 = torch.tensor(img1)\n",
    "\n",
    "    d = ahiq(img0, img1)\n",
    "    real_esrgan_ahiq_scores[\"MOS\"].append(float((d * (max_mos - min_mos) + min_mos)))\n",
    "    df = pd.DataFrame(real_esrgan_ahiq_scores)\n",
    "    df.to_csv(\"Real-ESRGAN_AHIQ_scores.csv\")\n",
    "    count += 1\n",
    "    if count == 3746:\n",
    "        break"
   ]
  },
  {
   "cell_type": "code",
   "execution_count": 19,
   "metadata": {},
   "outputs": [],
   "source": [
    "df_ESRGAN_lpips = pd.read_csv(\"ESRGAN_LPIPS_scores.csv\")\n",
    "df_Real_ESRGAN_lpips = pd.read_csv(\"Real-ESRGAN_LPIPS_scores.csv\")\n",
    "df_ESRGAN_dists = pd.read_csv(\"ESRGAN_DISTS_scores.csv\")\n",
    "df_Real_ESRGAN_dists = pd.read_csv(\"Real-ESRGAN_DISTS_scores.csv\")\n",
    "df_ESRGAN_nima = pd.read_csv(\"ESRGAN_NIMA_scores.csv\")\n",
    "df_Real_ESRGAN_nima = pd.read_csv(\"Real-ESRGAN_NIMA_scores.csv\")\n",
    "\n",
    "correlations = {}\n",
    "\n",
    "pearson_esrgan_lpips = round(pearsonr(dataset[\"MOS\"].values[:3746], df_ESRGAN_lpips[\"MOS\"].values)[0], 3)\n",
    "pearson_real_esrgan_lpips = round(pearsonr(dataset[\"MOS\"].values[:3746], df_Real_ESRGAN_lpips[\"MOS\"].values)[0], 3)\n",
    "pearson_esrgan_dists = round(pearsonr(dataset[\"MOS\"].values[:3746], df_ESRGAN_dists[\"MOS\"].values)[0], 3)\n",
    "pearson_real_esrgan_dists = round(pearsonr(dataset[\"MOS\"].values[:3746], df_Real_ESRGAN_dists[\"MOS\"].values)[0], 3)\n",
    "pearson_esrgan_nima = round(pearsonr(dataset[\"MOS\"].values[:3746], df_ESRGAN_nima[\"MOS\"].values)[0], 3)\n",
    "pearson_real_esrgan_nima = round(pearsonr(dataset[\"MOS\"].values[:3746], df_Real_ESRGAN_nima[\"MOS\"].values)[0], 3)\n",
    "\n",
    "spearman_esrgan_lpips = round(spearmanr(dataset[\"MOS\"].values[:3746], df_ESRGAN_lpips[\"MOS\"].values)[0], 3)\n",
    "spearman_real_esrgan_lpips = round(spearmanr(dataset[\"MOS\"].values[:3746], df_Real_ESRGAN_lpips[\"MOS\"].values)[0], 3)\n",
    "spearman_esrgan_dists = round(spearmanr(dataset[\"MOS\"].values[:3746], df_ESRGAN_dists[\"MOS\"].values)[0], 3)\n",
    "spearman_real_esrgan_dists = round(spearmanr(dataset[\"MOS\"].values[:3746], df_Real_ESRGAN_dists[\"MOS\"].values)[0], 3)\n",
    "spearman_esrgan_nima = round(spearmanr(dataset[\"MOS\"].values[:3746], df_ESRGAN_nima[\"MOS\"].values)[0], 3)\n",
    "spearman_real_esrgan_nima = round(spearmanr(dataset[\"MOS\"].values[:3746], df_Real_ESRGAN_nima[\"MOS\"].values)[0], 3)\n",
    "\n",
    "cosine_esrgan_lpips = round(np.dot(dataset[\"MOS\"].values[:3746], df_ESRGAN_lpips[\"MOS\"].values) / (np.linalg.norm(dataset[\"MOS\"].values[:3746]) * np.linalg.norm(df_ESRGAN_lpips[\"MOS\"].values)), 3)\n",
    "cosine_real_esrgan_lpips = round(np.dot(dataset[\"MOS\"].values[:3746], df_Real_ESRGAN_lpips[\"MOS\"].values) / (np.linalg.norm(dataset[\"MOS\"].values[:3746]) * np.linalg.norm(df_Real_ESRGAN_lpips[\"MOS\"].values)), 3)\n",
    "cosine_esrgan_dists = round(np.dot(dataset[\"MOS\"].values[:3746], df_ESRGAN_dists[\"MOS\"].values) / (np.linalg.norm(dataset[\"MOS\"].values[:3746]) * np.linalg.norm(df_ESRGAN_dists[\"MOS\"].values)))\n",
    "cosine_real_esrgan_dists = round(np.dot(dataset[\"MOS\"].values[:3746], df_Real_ESRGAN_dists[\"MOS\"].values) / (np.linalg.norm(dataset[\"MOS\"].values[:3746]) * np.linalg.norm(df_Real_ESRGAN_dists[\"MOS\"].values)), 3)\n",
    "cosine_esrgan_nima = round(np.dot(dataset[\"MOS\"].values[:3746], df_ESRGAN_nima[\"MOS\"].values) / (np.linalg.norm(dataset[\"MOS\"].values[:3746]) * np.linalg.norm(df_ESRGAN_nima[\"MOS\"].values)))\n",
    "cosine_real_esrgan_nima = round(np.dot(dataset[\"MOS\"].values[:3746], df_Real_ESRGAN_nima[\"MOS\"].values) / (np.linalg.norm(dataset[\"MOS\"].values[:3746]) * np.linalg.norm(df_Real_ESRGAN_nima[\"MOS\"].values)), 3)\n",
    "\n",
    "correlations = {\n",
    "    \"LIPIPS\": [\n",
    "        f\"{pearson_esrgan_lpips}/{spearman_esrgan_lpips}/{cosine_esrgan_lpips}\",\n",
    "        f\"{pearson_real_esrgan_lpips}/{spearman_real_esrgan_lpips}/{cosine_real_esrgan_lpips}\"\n",
    "    ],\n",
    "    \"DISTS\": [\n",
    "        f\"{pearson_esrgan_dists}/{spearman_esrgan_dists}/{cosine_esrgan_dists}\",\n",
    "        f\"{pearson_real_esrgan_dists}/{spearman_real_esrgan_dists}/{cosine_real_esrgan_dists}\"\n",
    "    ],\n",
    "    \"NIMA\": [\n",
    "        f\"{pearson_esrgan_nima}/{spearman_esrgan_nima}/{cosine_esrgan_nima}\",\n",
    "        f\"{pearson_real_esrgan_nima}/{spearman_real_esrgan_nima}/{cosine_real_esrgan_nima}\"\n",
    "    ]\n",
    "}\n",
    "\n",
    "correlations_df = pd.DataFrame(correlations, index=[\"ESRGAN\", \"Real-ESRGAN\"])\n",
    "correlations_df.to_csv(\"correlations.csv\")"
   ]
  },
  {
   "cell_type": "code",
   "execution_count": 20,
   "metadata": {},
   "outputs": [
    {
     "data": {
      "text/html": [
       "<div>\n",
       "<style scoped>\n",
       "    .dataframe tbody tr th:only-of-type {\n",
       "        vertical-align: middle;\n",
       "    }\n",
       "\n",
       "    .dataframe tbody tr th {\n",
       "        vertical-align: top;\n",
       "    }\n",
       "\n",
       "    .dataframe thead th {\n",
       "        text-align: right;\n",
       "    }\n",
       "</style>\n",
       "<table border=\"1\" class=\"dataframe\">\n",
       "  <thead>\n",
       "    <tr style=\"text-align: right;\">\n",
       "      <th></th>\n",
       "      <th>LIPIPS</th>\n",
       "      <th>DISTS</th>\n",
       "      <th>NIMA</th>\n",
       "    </tr>\n",
       "  </thead>\n",
       "  <tbody>\n",
       "    <tr>\n",
       "      <th>ESRGAN</th>\n",
       "      <td>0.024/0.03/0.967</td>\n",
       "      <td>0.033/0.039/1</td>\n",
       "      <td>0.045/0.035/1</td>\n",
       "    </tr>\n",
       "    <tr>\n",
       "      <th>Real-ESRGAN</th>\n",
       "      <td>0.01/0.022/0.976</td>\n",
       "      <td>0.018/0.025/0.977</td>\n",
       "      <td>0.045/0.035/0.981</td>\n",
       "    </tr>\n",
       "  </tbody>\n",
       "</table>\n",
       "</div>"
      ],
      "text/plain": [
       "                       LIPIPS              DISTS               NIMA\n",
       "ESRGAN       0.024/0.03/0.967      0.033/0.039/1      0.045/0.035/1\n",
       "Real-ESRGAN  0.01/0.022/0.976  0.018/0.025/0.977  0.045/0.035/0.981"
      ]
     },
     "execution_count": 20,
     "metadata": {},
     "output_type": "execute_result"
    }
   ],
   "source": [
    "correlations_df"
   ]
  }
 ],
 "metadata": {
  "kernelspec": {
   "display_name": "base",
   "language": "python",
   "name": "python3"
  },
  "language_info": {
   "codemirror_mode": {
    "name": "ipython",
    "version": 3
   },
   "file_extension": ".py",
   "mimetype": "text/x-python",
   "name": "python",
   "nbconvert_exporter": "python",
   "pygments_lexer": "ipython3",
   "version": "3.12.3"
  }
 },
 "nbformat": 4,
 "nbformat_minor": 2
}
